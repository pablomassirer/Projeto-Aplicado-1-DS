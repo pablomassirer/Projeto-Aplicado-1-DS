{
 "cells": [
  {
   "cell_type": "markdown",
   "metadata": {},
   "source": [
    "#### Imports"
   ]
  },
  {
   "cell_type": "code",
   "execution_count": 2,
   "metadata": {},
   "outputs": [],
   "source": [
    "import pandas as pd"
   ]
  },
  {
   "cell_type": "markdown",
   "metadata": {},
   "source": [
    "#### Loading Dataset"
   ]
  },
  {
   "cell_type": "code",
   "execution_count": 3,
   "metadata": {},
   "outputs": [],
   "source": [
    "dataset_SEMOP = pd.read_csv('..\\ingestion-layer\\pref_salvador_full.csv', delimiter=';')\n",
    "\n",
    "tbl = pd.DataFrame(dataset_SEMOP)\n",
    "salario = tbl['salario']"
   ]
  },
  {
   "cell_type": "markdown",
   "metadata": {},
   "source": [
    "#### Displaying "
   ]
  },
  {
   "cell_type": "code",
   "execution_count": 4,
   "metadata": {},
   "outputs": [
    {
     "data": {
      "text/html": [
       "<div>\n",
       "<style scoped>\n",
       "    .dataframe tbody tr th:only-of-type {\n",
       "        vertical-align: middle;\n",
       "    }\n",
       "\n",
       "    .dataframe tbody tr th {\n",
       "        vertical-align: top;\n",
       "    }\n",
       "\n",
       "    .dataframe thead th {\n",
       "        text-align: right;\n",
       "    }\n",
       "</style>\n",
       "<table border=\"1\" class=\"dataframe\">\n",
       "  <thead>\n",
       "    <tr style=\"text-align: right;\">\n",
       "      <th></th>\n",
       "      <th>id</th>\n",
       "      <th>cpf</th>\n",
       "      <th>nome</th>\n",
       "      <th>vinculo</th>\n",
       "      <th>situacao</th>\n",
       "      <th>salario</th>\n",
       "      <th>margem_desconto</th>\n",
       "      <th>margem_liquido</th>\n",
       "      <th>margem_cartao_bruto</th>\n",
       "      <th>margem_cartao_desconto</th>\n",
       "      <th>margem_cartao_liquido</th>\n",
       "      <th>margem_cartao_beneficio_bruto_compra</th>\n",
       "      <th>margem_cartao_beneficio_desconto_compra</th>\n",
       "      <th>margem_cartao_beneficio_liquido_compra</th>\n",
       "      <th>margem_cartao_beneficio_bruto_saque</th>\n",
       "      <th>margem_cartao_beneficio_desconto_saque</th>\n",
       "      <th>margem_cartao_beneficio_liquido_saque</th>\n",
       "    </tr>\n",
       "  </thead>\n",
       "  <tbody>\n",
       "    <tr>\n",
       "      <th>0</th>\n",
       "      <td>17211</td>\n",
       "      <td>95566</td>\n",
       "      <td>JAQUELINE OLIVEIRA CRUZ CAVALCANTE</td>\n",
       "      <td>ESTATUTARIO</td>\n",
       "      <td>Ativo - TRABALHANDO</td>\n",
       "      <td>1112.10</td>\n",
       "      <td>0.00</td>\n",
       "      <td>785.75</td>\n",
       "      <td>317.74</td>\n",
       "      <td>0.0</td>\n",
       "      <td>317.74</td>\n",
       "      <td>317.74</td>\n",
       "      <td>0.0</td>\n",
       "      <td>317.74</td>\n",
       "      <td>222.42</td>\n",
       "      <td>0.0</td>\n",
       "      <td>222.42</td>\n",
       "    </tr>\n",
       "    <tr>\n",
       "      <th>1</th>\n",
       "      <td>9019</td>\n",
       "      <td>2536</td>\n",
       "      <td>DENISE CASTRO DE OLIVEIRA PUGLIESI</td>\n",
       "      <td>ESTATUTARIO</td>\n",
       "      <td>Suspenso - SEM MARGEM MÊS ATUAL</td>\n",
       "      <td>0.00</td>\n",
       "      <td>0.00</td>\n",
       "      <td>0.00</td>\n",
       "      <td>0.00</td>\n",
       "      <td>0.0</td>\n",
       "      <td>0.00</td>\n",
       "      <td>0.00</td>\n",
       "      <td>0.0</td>\n",
       "      <td>0.00</td>\n",
       "      <td>0.00</td>\n",
       "      <td>0.0</td>\n",
       "      <td>0.00</td>\n",
       "    </tr>\n",
       "    <tr>\n",
       "      <th>2</th>\n",
       "      <td>14714</td>\n",
       "      <td>96520</td>\n",
       "      <td>HELCIO JOSE LOBOSCO TRIGUEIRO</td>\n",
       "      <td>APOSENTADO</td>\n",
       "      <td>Ativo - TRABALHANDO</td>\n",
       "      <td>7877.19</td>\n",
       "      <td>0.00</td>\n",
       "      <td>7877.19</td>\n",
       "      <td>2250.63</td>\n",
       "      <td>0.0</td>\n",
       "      <td>2250.63</td>\n",
       "      <td>2250.63</td>\n",
       "      <td>0.0</td>\n",
       "      <td>2250.63</td>\n",
       "      <td>1575.44</td>\n",
       "      <td>0.0</td>\n",
       "      <td>1575.44</td>\n",
       "    </tr>\n",
       "    <tr>\n",
       "      <th>3</th>\n",
       "      <td>15842</td>\n",
       "      <td>46543</td>\n",
       "      <td>ISABELA LIMA DE OLIVEIRA CAVALCANTI</td>\n",
       "      <td>ESTATUTARIO</td>\n",
       "      <td>Ativo - TRABALHANDO</td>\n",
       "      <td>999.75</td>\n",
       "      <td>0.00</td>\n",
       "      <td>802.76</td>\n",
       "      <td>285.64</td>\n",
       "      <td>0.0</td>\n",
       "      <td>285.64</td>\n",
       "      <td>285.64</td>\n",
       "      <td>0.0</td>\n",
       "      <td>285.64</td>\n",
       "      <td>199.95</td>\n",
       "      <td>0.0</td>\n",
       "      <td>199.95</td>\n",
       "    </tr>\n",
       "    <tr>\n",
       "      <th>4</th>\n",
       "      <td>35358</td>\n",
       "      <td>16552</td>\n",
       "      <td>TEMARIA SANTANA DA SILVA</td>\n",
       "      <td>ESTATUTARIO</td>\n",
       "      <td>Ativo - TRABALHANDO</td>\n",
       "      <td>1298.12</td>\n",
       "      <td>0.00</td>\n",
       "      <td>1298.12</td>\n",
       "      <td>370.89</td>\n",
       "      <td>0.0</td>\n",
       "      <td>370.89</td>\n",
       "      <td>370.89</td>\n",
       "      <td>0.0</td>\n",
       "      <td>370.89</td>\n",
       "      <td>259.62</td>\n",
       "      <td>0.0</td>\n",
       "      <td>259.62</td>\n",
       "    </tr>\n",
       "    <tr>\n",
       "      <th>...</th>\n",
       "      <td>...</td>\n",
       "      <td>...</td>\n",
       "      <td>...</td>\n",
       "      <td>...</td>\n",
       "      <td>...</td>\n",
       "      <td>...</td>\n",
       "      <td>...</td>\n",
       "      <td>...</td>\n",
       "      <td>...</td>\n",
       "      <td>...</td>\n",
       "      <td>...</td>\n",
       "      <td>...</td>\n",
       "      <td>...</td>\n",
       "      <td>...</td>\n",
       "      <td>...</td>\n",
       "      <td>...</td>\n",
       "      <td>...</td>\n",
       "    </tr>\n",
       "    <tr>\n",
       "      <th>35054</th>\n",
       "      <td>27613</td>\n",
       "      <td>94572</td>\n",
       "      <td>MILENA CARNEIRO DA SILVA</td>\n",
       "      <td>ESTATUTARIO</td>\n",
       "      <td>Ativo - TRABALHANDO</td>\n",
       "      <td>1420.53</td>\n",
       "      <td>0.00</td>\n",
       "      <td>1420.53</td>\n",
       "      <td>405.87</td>\n",
       "      <td>0.0</td>\n",
       "      <td>405.87</td>\n",
       "      <td>405.87</td>\n",
       "      <td>0.0</td>\n",
       "      <td>405.87</td>\n",
       "      <td>284.11</td>\n",
       "      <td>0.0</td>\n",
       "      <td>284.11</td>\n",
       "    </tr>\n",
       "    <tr>\n",
       "      <th>35055</th>\n",
       "      <td>28662</td>\n",
       "      <td>39520</td>\n",
       "      <td>NEWMAR EDWIN FERREIRA DE SOUZA</td>\n",
       "      <td>ESTATUTARIO</td>\n",
       "      <td>Ativo - TRABALHANDO</td>\n",
       "      <td>1159.07</td>\n",
       "      <td>0.00</td>\n",
       "      <td>734.38</td>\n",
       "      <td>331.16</td>\n",
       "      <td>0.0</td>\n",
       "      <td>331.16</td>\n",
       "      <td>331.16</td>\n",
       "      <td>0.0</td>\n",
       "      <td>331.16</td>\n",
       "      <td>231.81</td>\n",
       "      <td>0.0</td>\n",
       "      <td>231.81</td>\n",
       "    </tr>\n",
       "    <tr>\n",
       "      <th>35056</th>\n",
       "      <td>37162</td>\n",
       "      <td>77549</td>\n",
       "      <td>WAGNER BARBOSA DA GAMA</td>\n",
       "      <td>ESTATUTARIO</td>\n",
       "      <td>Ativo - TRABALHANDO</td>\n",
       "      <td>1128.47</td>\n",
       "      <td>23.28</td>\n",
       "      <td>3.64</td>\n",
       "      <td>322.42</td>\n",
       "      <td>0.0</td>\n",
       "      <td>122.71</td>\n",
       "      <td>322.42</td>\n",
       "      <td>0.0</td>\n",
       "      <td>237.29</td>\n",
       "      <td>225.69</td>\n",
       "      <td>0.0</td>\n",
       "      <td>140.56</td>\n",
       "    </tr>\n",
       "    <tr>\n",
       "      <th>35057</th>\n",
       "      <td>11272</td>\n",
       "      <td>63515</td>\n",
       "      <td>ELIS REGINA DO ESPIRITO S PEREIRA</td>\n",
       "      <td>ESTATUTARIO</td>\n",
       "      <td>Ativo - TRABALHANDO</td>\n",
       "      <td>1731.24</td>\n",
       "      <td>225.60</td>\n",
       "      <td>709.47</td>\n",
       "      <td>494.64</td>\n",
       "      <td>0.0</td>\n",
       "      <td>73.99</td>\n",
       "      <td>494.64</td>\n",
       "      <td>0.0</td>\n",
       "      <td>494.64</td>\n",
       "      <td>346.25</td>\n",
       "      <td>0.0</td>\n",
       "      <td>346.25</td>\n",
       "    </tr>\n",
       "    <tr>\n",
       "      <th>35058</th>\n",
       "      <td>29825</td>\n",
       "      <td>63568</td>\n",
       "      <td>PAULA CRISTINA SOUZA RIBEIRO</td>\n",
       "      <td>ESTATUTARIO</td>\n",
       "      <td>Ativo - TRABALHANDO</td>\n",
       "      <td>924.17</td>\n",
       "      <td>0.00</td>\n",
       "      <td>405.59</td>\n",
       "      <td>264.05</td>\n",
       "      <td>0.0</td>\n",
       "      <td>264.05</td>\n",
       "      <td>264.04</td>\n",
       "      <td>0.0</td>\n",
       "      <td>264.04</td>\n",
       "      <td>184.83</td>\n",
       "      <td>0.0</td>\n",
       "      <td>184.83</td>\n",
       "    </tr>\n",
       "  </tbody>\n",
       "</table>\n",
       "<p>35059 rows × 17 columns</p>\n",
       "</div>"
      ],
      "text/plain": [
       "          id    cpf                                 nome      vinculo  \\\n",
       "0      17211  95566   JAQUELINE OLIVEIRA CRUZ CAVALCANTE  ESTATUTARIO   \n",
       "1       9019   2536   DENISE CASTRO DE OLIVEIRA PUGLIESI  ESTATUTARIO   \n",
       "2      14714  96520        HELCIO JOSE LOBOSCO TRIGUEIRO   APOSENTADO   \n",
       "3      15842  46543  ISABELA LIMA DE OLIVEIRA CAVALCANTI  ESTATUTARIO   \n",
       "4      35358  16552             TEMARIA SANTANA DA SILVA  ESTATUTARIO   \n",
       "...      ...    ...                                  ...          ...   \n",
       "35054  27613  94572             MILENA CARNEIRO DA SILVA  ESTATUTARIO   \n",
       "35055  28662  39520       NEWMAR EDWIN FERREIRA DE SOUZA  ESTATUTARIO   \n",
       "35056  37162  77549               WAGNER BARBOSA DA GAMA  ESTATUTARIO   \n",
       "35057  11272  63515    ELIS REGINA DO ESPIRITO S PEREIRA  ESTATUTARIO   \n",
       "35058  29825  63568         PAULA CRISTINA SOUZA RIBEIRO  ESTATUTARIO   \n",
       "\n",
       "                              situacao  salario  margem_desconto  \\\n",
       "0                  Ativo - TRABALHANDO  1112.10             0.00   \n",
       "1      Suspenso - SEM MARGEM MÊS ATUAL     0.00             0.00   \n",
       "2                  Ativo - TRABALHANDO  7877.19             0.00   \n",
       "3                  Ativo - TRABALHANDO   999.75             0.00   \n",
       "4                  Ativo - TRABALHANDO  1298.12             0.00   \n",
       "...                                ...      ...              ...   \n",
       "35054              Ativo - TRABALHANDO  1420.53             0.00   \n",
       "35055              Ativo - TRABALHANDO  1159.07             0.00   \n",
       "35056              Ativo - TRABALHANDO  1128.47            23.28   \n",
       "35057              Ativo - TRABALHANDO  1731.24           225.60   \n",
       "35058              Ativo - TRABALHANDO   924.17             0.00   \n",
       "\n",
       "       margem_liquido  margem_cartao_bruto  margem_cartao_desconto  \\\n",
       "0              785.75               317.74                     0.0   \n",
       "1                0.00                 0.00                     0.0   \n",
       "2             7877.19              2250.63                     0.0   \n",
       "3              802.76               285.64                     0.0   \n",
       "4             1298.12               370.89                     0.0   \n",
       "...               ...                  ...                     ...   \n",
       "35054         1420.53               405.87                     0.0   \n",
       "35055          734.38               331.16                     0.0   \n",
       "35056            3.64               322.42                     0.0   \n",
       "35057          709.47               494.64                     0.0   \n",
       "35058          405.59               264.05                     0.0   \n",
       "\n",
       "       margem_cartao_liquido  margem_cartao_beneficio_bruto_compra  \\\n",
       "0                     317.74                                317.74   \n",
       "1                       0.00                                  0.00   \n",
       "2                    2250.63                               2250.63   \n",
       "3                     285.64                                285.64   \n",
       "4                     370.89                                370.89   \n",
       "...                      ...                                   ...   \n",
       "35054                 405.87                                405.87   \n",
       "35055                 331.16                                331.16   \n",
       "35056                 122.71                                322.42   \n",
       "35057                  73.99                                494.64   \n",
       "35058                 264.05                                264.04   \n",
       "\n",
       "       margem_cartao_beneficio_desconto_compra  \\\n",
       "0                                          0.0   \n",
       "1                                          0.0   \n",
       "2                                          0.0   \n",
       "3                                          0.0   \n",
       "4                                          0.0   \n",
       "...                                        ...   \n",
       "35054                                      0.0   \n",
       "35055                                      0.0   \n",
       "35056                                      0.0   \n",
       "35057                                      0.0   \n",
       "35058                                      0.0   \n",
       "\n",
       "       margem_cartao_beneficio_liquido_compra  \\\n",
       "0                                      317.74   \n",
       "1                                        0.00   \n",
       "2                                     2250.63   \n",
       "3                                      285.64   \n",
       "4                                      370.89   \n",
       "...                                       ...   \n",
       "35054                                  405.87   \n",
       "35055                                  331.16   \n",
       "35056                                  237.29   \n",
       "35057                                  494.64   \n",
       "35058                                  264.04   \n",
       "\n",
       "       margem_cartao_beneficio_bruto_saque  \\\n",
       "0                                   222.42   \n",
       "1                                     0.00   \n",
       "2                                  1575.44   \n",
       "3                                   199.95   \n",
       "4                                   259.62   \n",
       "...                                    ...   \n",
       "35054                               284.11   \n",
       "35055                               231.81   \n",
       "35056                               225.69   \n",
       "35057                               346.25   \n",
       "35058                               184.83   \n",
       "\n",
       "       margem_cartao_beneficio_desconto_saque  \\\n",
       "0                                         0.0   \n",
       "1                                         0.0   \n",
       "2                                         0.0   \n",
       "3                                         0.0   \n",
       "4                                         0.0   \n",
       "...                                       ...   \n",
       "35054                                     0.0   \n",
       "35055                                     0.0   \n",
       "35056                                     0.0   \n",
       "35057                                     0.0   \n",
       "35058                                     0.0   \n",
       "\n",
       "       margem_cartao_beneficio_liquido_saque  \n",
       "0                                     222.42  \n",
       "1                                       0.00  \n",
       "2                                    1575.44  \n",
       "3                                     199.95  \n",
       "4                                     259.62  \n",
       "...                                      ...  \n",
       "35054                                 284.11  \n",
       "35055                                 231.81  \n",
       "35056                                 140.56  \n",
       "35057                                 346.25  \n",
       "35058                                 184.83  \n",
       "\n",
       "[35059 rows x 17 columns]"
      ]
     },
     "metadata": {},
     "output_type": "display_data"
    }
   ],
   "source": [
    "display(tbl)"
   ]
  },
  {
   "cell_type": "markdown",
   "metadata": {},
   "source": [
    "#### Row x Columns Number"
   ]
  },
  {
   "cell_type": "code",
   "execution_count": 5,
   "metadata": {},
   "outputs": [
    {
     "name": "stdout",
     "output_type": "stream",
     "text": [
      "Rows: 35059 | Columns: 17\n"
     ]
    }
   ],
   "source": [
    "print(f'Rows: {tbl.shape[0]} | Columns: {tbl.shape[1]}')"
   ]
  },
  {
   "cell_type": "markdown",
   "metadata": {},
   "source": [
    "#### Data Types"
   ]
  },
  {
   "cell_type": "code",
   "execution_count": 6,
   "metadata": {},
   "outputs": [
    {
     "data": {
      "text/plain": [
       "id                                           int64\n",
       "cpf                                          int64\n",
       "nome                                        object\n",
       "vinculo                                     object\n",
       "situacao                                    object\n",
       "salario                                    float64\n",
       "margem_desconto                            float64\n",
       "margem_liquido                             float64\n",
       "margem_cartao_bruto                        float64\n",
       "margem_cartao_desconto                     float64\n",
       "margem_cartao_liquido                      float64\n",
       "margem_cartao_beneficio_bruto_compra       float64\n",
       "margem_cartao_beneficio_desconto_compra    float64\n",
       "margem_cartao_beneficio_liquido_compra     float64\n",
       "margem_cartao_beneficio_bruto_saque        float64\n",
       "margem_cartao_beneficio_desconto_saque     float64\n",
       "margem_cartao_beneficio_liquido_saque      float64\n",
       "dtype: object"
      ]
     },
     "execution_count": 6,
     "metadata": {},
     "output_type": "execute_result"
    }
   ],
   "source": [
    "tbl.dtypes"
   ]
  },
  {
   "cell_type": "markdown",
   "metadata": {},
   "source": [
    "#### Mean"
   ]
  },
  {
   "cell_type": "code",
   "execution_count": 7,
   "metadata": {},
   "outputs": [
    {
     "name": "stdout",
     "output_type": "stream",
     "text": [
      "Média Salarial: R$1450.35\n"
     ]
    }
   ],
   "source": [
    "print(f\"Média Salarial: R${salario.mean():.2f}\")"
   ]
  },
  {
   "cell_type": "markdown",
   "metadata": {},
   "source": [
    "#### Median"
   ]
  },
  {
   "cell_type": "code",
   "execution_count": 8,
   "metadata": {},
   "outputs": [
    {
     "name": "stdout",
     "output_type": "stream",
     "text": [
      "Mediana Salarial: R$1159.67\n"
     ]
    }
   ],
   "source": [
    "print(f\"Mediana Salarial: R${salario.median():.2f}\")"
   ]
  },
  {
   "cell_type": "markdown",
   "metadata": {},
   "source": [
    "#### Amplitude Total"
   ]
  },
  {
   "cell_type": "code",
   "execution_count": 9,
   "metadata": {},
   "outputs": [
    {
     "name": "stdout",
     "output_type": "stream",
     "text": [
      "AT: Vmax - Vmin = 11636.41\n"
     ]
    }
   ],
   "source": [
    "print(f\"AT: Vmax - Vmin = {salario.max() - salario.min()}\")"
   ]
  },
  {
   "cell_type": "markdown",
   "metadata": {},
   "source": [
    "#### Desvio Médio DM"
   ]
  },
  {
   "cell_type": "code",
   "execution_count": 10,
   "metadata": {},
   "outputs": [
    {
     "name": "stdout",
     "output_type": "stream",
     "text": [
      "DM: (Soma Total) / Média = 50846524.72\n"
     ]
    }
   ],
   "source": [
    "print(f\"DM: (Soma Total) / Média = {salario.sum() - salario.median():.2f}\")"
   ]
  },
  {
   "cell_type": "markdown",
   "metadata": {},
   "source": [
    "#### Variância Amostral"
   ]
  },
  {
   "cell_type": "code",
   "execution_count": 14,
   "metadata": {},
   "outputs": [
    {
     "name": "stdout",
     "output_type": "stream",
     "text": [
      "Resultado = 1122675.15\n"
     ]
    }
   ],
   "source": [
    "print(f\"Resultado = {salario.var():.2f}\")"
   ]
  },
  {
   "cell_type": "markdown",
   "metadata": {},
   "source": [
    "#### Desvio Padrão"
   ]
  },
  {
   "cell_type": "code",
   "execution_count": 13,
   "metadata": {},
   "outputs": [
    {
     "name": "stdout",
     "output_type": "stream",
     "text": [
      "Resultado = 1059.56\n"
     ]
    }
   ],
   "source": [
    "print(f\"Resultado = {salario.std():.2f}\")"
   ]
  }
 ],
 "metadata": {
  "kernelspec": {
   "display_name": ".venv",
   "language": "python",
   "name": "python3"
  },
  "language_info": {
   "codemirror_mode": {
    "name": "ipython",
    "version": 3
   },
   "file_extension": ".py",
   "mimetype": "text/x-python",
   "name": "python",
   "nbconvert_exporter": "python",
   "pygments_lexer": "ipython3",
   "version": "3.10.5"
  },
  "orig_nbformat": 4
 },
 "nbformat": 4,
 "nbformat_minor": 2
}
